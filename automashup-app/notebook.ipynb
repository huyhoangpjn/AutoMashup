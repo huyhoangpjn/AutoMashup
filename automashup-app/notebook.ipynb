{
 "cells": [
  {
   "cell_type": "code",
   "execution_count": 2,
   "metadata": {},
   "outputs": [
    {
     "name": "stderr",
     "output_type": "stream",
     "text": [
      "[   INFO   ] MusicExtractorSVM: no classifier models were configured by default\n",
      "/home/gaubiche/.local/lib/python3.10/site-packages/tqdm/auto.py:21: TqdmWarning: IProgress not found. Please update jupyter and ipywidgets. See https://ipywidgets.readthedocs.io/en/stable/user_install.html\n",
      "  from .autonotebook import tqdm as notebook_tqdm\n"
     ]
    }
   ],
   "source": [
    "from utils import increase_array_size\n",
    "import librosa\n",
    "import numpy as np\n",
    "import essentia.standard as es\n",
    "from pathlib import Path\n",
    "import allin1"
   ]
  },
  {
   "cell_type": "code",
   "execution_count": 3,
   "metadata": {},
   "outputs": [],
   "source": [
    "def mashup_technic_3(vocals, instru):\n",
    "    vocals_path = './separated/mdx_extra/' + vocals + '/vocals.mp3'\n",
    "    vocals_song_path = './input/' + vocals\n",
    "    vocals_song_path += '.mp3' if Path(vocals_song_path+'.mp3').is_file() else '.wav'\n",
    "        \n",
    "    instru_path = './separated/mdx_extra/' + instru + '/no_vocals.mp3'\n",
    "    instru_song_path = './input/' + instru \n",
    "    instru_song_path += '.mp3' if Path(instru_song_path+'.mp3').is_file() else '.wav'\n",
    "\n",
    "    vocals, sr1 = librosa.load(vocals_path)\n",
    "    instru, sr2   = librosa.load(instru_path)\n",
    "    \n",
    "    # Analyze songs (This model include the source separation by demucs --> need to be optimized later)\n",
    "    results = allin1.analyze([vocals_song_path, instru_song_path])\n",
    "    \n",
    "    tempo1, beat_frames1 = results[0].bpm, librosa.time_to_frames(results[0].beats, sr=sr1)\n",
    "    tempo2, beat_frames2 = results[1].bpm, librosa.time_to_frames(results[1].beats, sr=sr2)\n",
    "    \n",
    "    average_bpm = np.mean([tempo1, tempo2])\n",
    "\n",
    "    tempo_ratio1 = average_bpm / tempo1\n",
    "    tempo_ratio2 = average_bpm / tempo2\n",
    "\n",
    "    beat_frames1_aligned = increase_array_size(beat_frames1 * tempo_ratio1, max(len(beat_frames2), len(beat_frames1)))\n",
    "    beat_frames2_aligned = increase_array_size(beat_frames2 * tempo_ratio2, max(len(beat_frames2), len(beat_frames1)))\n",
    "\n",
    "    offset = int(np.mean(beat_frames2_aligned - beat_frames1_aligned))\n",
    "    \n",
    "    instru_aligned = np.roll(instru, offset)\n",
    "\n",
    "    size = max(len(instru_aligned), len(vocals))\n",
    "    instru_aligned = increase_array_size(instru_aligned, size)\n",
    "    vocals = increase_array_size(vocals, size)\n",
    "\n",
    "    mashup = instru_aligned + vocals\n",
    "\n",
    "    return mashup, sr1"
   ]
  },
  {
   "cell_type": "code",
   "execution_count": 8,
   "metadata": {},
   "outputs": [
    {
     "name": "stdout",
     "output_type": "stream",
     "text": [
      "=> Found 0 tracks already analyzed and 1 tracks to analyze.\n",
      "=> Found 0 tracks already demixed, 1 to demix.\n",
      "Selected model is a bag of 1 models. You will see that many progress bars per track.\n",
      "Separated tracks will be stored in /home/gaubiche/Documents/MCE/Automashup/AutoMashup/mashup/demix/htdemucs\n",
      "Separating track /home/gaubiche/Documents/MCE/Automashup/AutoMashup/mashup/input/deep_down.mp3\n"
     ]
    },
    {
     "name": "stderr",
     "output_type": "stream",
     "text": [
      "100%|██████████████████████████████████████████████| 169.64999999999998/169.64999999999998 [01:29<00:00,  1.89seconds/s]\n"
     ]
    },
    {
     "name": "stdout",
     "output_type": "stream",
     "text": [
      "=> Found 0 spectrograms already extracted, 1 to extract.\n"
     ]
    },
    {
     "name": "stderr",
     "output_type": "stream",
     "text": [
      "Extracting spectrograms: 100%|██████████| 1/1 [00:03<00:00,  3.74s/it]\n",
      "Analyzing deep_down.mp3: 100%|██████████| 1/1 [00:26<00:00, 26.86s/it]\n"
     ]
    }
   ],
   "source": [
    "results = allin1.analyze('./input/deep_down.mp3', out_dir='./struct')"
   ]
  },
  {
   "cell_type": "code",
   "execution_count": 10,
   "metadata": {},
   "outputs": [
    {
     "name": "stdout",
     "output_type": "stream",
     "text": [
      "AnalysisResult(path=PosixPath('/home/gaubiche/Documents/MCE/Automashup/AutoMashup/mashup/input/deep_down.mp3'), bpm=125, beats=[0.02, 0.49, 0.97, 1.45, 1.92, 2.4, 2.88, 3.35, 3.83, 4.31, 4.78, 5.26, 5.73, 6.21, 6.69, 7.16, 7.64, 8.12, 8.59, 9.07, 9.54, 10.02, 10.5, 10.97, 11.45, 11.93, 12.4, 12.88, 13.35, 13.83, 14.31, 14.78, 15.26, 15.74, 16.21, 16.69, 17.16, 17.64, 18.12, 18.59, 19.07, 19.54, 20.02, 20.5, 20.97, 21.45, 21.92, 22.4, 22.88, 23.36, 23.83, 24.31, 24.79, 25.26, 25.74, 26.21, 26.69, 27.17, 27.64, 28.12, 28.59, 29.07, 29.55, 30.02, 30.5, 30.97, 31.45, 31.92, 32.4, 32.88, 33.36, 33.83, 34.31, 34.78, 35.26, 35.74, 36.21, 36.68, 37.16, 37.64, 38.12, 38.59, 39.07, 39.55, 40.02, 40.5, 40.97, 41.45, 41.93, 42.4, 42.88, 43.36, 43.83, 44.31, 44.79, 45.26, 45.74, 46.21, 46.69, 47.17, 47.64, 48.12, 48.59, 49.07, 49.55, 50.02, 50.5, 50.98, 51.45, 51.93, 52.4, 52.88, 53.36, 53.83, 54.31, 54.79, 55.26, 55.74, 56.21, 56.69, 57.16, 57.64, 58.12, 58.6, 59.07, 59.55, 60.02, 60.5, 60.97, 61.45, 61.93, 62.41, 62.88, 63.36, 63.83, 64.31, 64.78, 65.26, 65.74, 66.22, 66.69, 67.17, 67.64, 68.12, 68.59, 69.07, 69.54, 70.02, 70.5, 70.97, 71.45, 71.92, 72.4, 72.88, 73.35, 73.83, 74.3, 74.78, 75.26, 75.74, 76.21, 76.69, 77.16, 77.64, 78.11, 78.59, 79.07, 79.54, 80.02, 80.5, 80.97, 81.45, 81.94, 82.4, 82.88, 83.35, 83.83, 84.31, 84.79, 85.26, 85.74, 86.21, 86.69, 87.16, 87.64, 88.12, 88.6, 89.07, 89.55, 90.02, 90.5, 90.97, 91.45, 91.93, 92.4, 92.88, 93.36, 93.83, 94.31, 94.78, 95.26, 95.74, 96.21, 96.69, 97.16, 97.64, 98.12, 98.59, 99.07, 99.54, 100.03, 100.5, 100.97, 101.45, 101.93, 102.4, 102.88, 103.36, 103.83, 104.31, 104.78, 105.26, 105.74, 106.22, 106.69, 107.17, 107.64, 108.12, 108.59, 109.07, 109.55, 110.02, 110.5, 110.98, 111.45, 111.93, 112.4, 112.88, 113.36, 113.83, 114.31, 114.78, 115.26, 115.73, 116.21, 116.69, 117.17, 117.64, 118.12, 118.59, 119.07, 119.54, 120.02, 120.5, 120.98, 121.44, 121.93, 122.4, 122.88, 123.35, 123.83, 124.31, 124.79, 125.26, 125.74, 126.21, 126.69, 127.17, 127.64, 128.12, 128.6, 129.07, 129.55, 130.02, 130.49, 130.97, 131.45, 131.93, 132.4, 132.88, 133.35, 133.83, 134.31, 134.78, 135.26, 135.74, 136.21, 136.69, 137.17, 137.64, 138.12, 138.6, 139.07, 139.55, 140.02, 140.5, 140.97, 141.45, 141.93, 142.41, 142.88, 143.36, 143.83, 144.31, 144.78, 145.26, 145.74, 146.22, 146.69, 147.17, 147.64, 148.12, 148.59, 149.07, 149.55, 150.03, 150.5, 150.98, 151.45, 151.93, 152.4, 152.88, 153.36, 153.84, 154.31, 154.79, 155.26, 155.74, 156.21, 156.69, 157.17, 157.65, 158.12, 158.6, 159.07, 159.55, 160.02, 160.5, 160.98, 161.45, 161.93], downbeats=[0.02, 1.92, 3.83, 5.73, 7.64, 9.54, 11.45, 13.35, 15.26, 17.16, 19.07, 20.97, 22.88, 24.79, 26.69, 28.59, 30.5, 32.4, 34.31, 36.21, 38.12, 40.02, 41.93, 43.83, 45.74, 47.64, 49.55, 51.45, 53.36, 55.26, 57.16, 59.07, 60.97, 62.88, 64.78, 66.69, 68.59, 70.5, 72.4, 74.3, 76.21, 78.11, 80.02, 81.94, 83.83, 85.74, 87.64, 89.55, 91.45, 93.36, 95.26, 97.16, 99.07, 100.97, 102.88, 104.78, 106.69, 108.59, 110.5, 112.4, 114.31, 116.21, 118.12, 120.02, 121.93, 123.83, 125.74, 127.64, 129.55, 131.45, 133.35, 135.26, 137.17, 139.07, 140.97, 142.88, 144.78, 146.69, 148.59, 150.5, 152.4, 154.31, 156.21, 158.12, 160.02, 161.93], beat_positions=[1, 2, 3, 4, 1, 2, 3, 4, 1, 2, 3, 4, 1, 2, 3, 4, 1, 2, 3, 4, 1, 2, 3, 4, 1, 2, 3, 4, 1, 2, 3, 4, 1, 2, 3, 4, 1, 2, 3, 4, 1, 2, 3, 4, 1, 2, 3, 4, 1, 2, 3, 4, 1, 2, 3, 4, 1, 2, 3, 4, 1, 2, 3, 4, 1, 2, 3, 4, 1, 2, 3, 4, 1, 2, 3, 4, 1, 2, 3, 4, 1, 2, 3, 4, 1, 2, 3, 4, 1, 2, 3, 4, 1, 2, 3, 4, 1, 2, 3, 4, 1, 2, 3, 4, 1, 2, 3, 4, 1, 2, 3, 4, 1, 2, 3, 4, 1, 2, 3, 4, 1, 2, 3, 4, 1, 2, 3, 4, 1, 2, 3, 4, 1, 2, 3, 4, 1, 2, 3, 4, 1, 2, 3, 4, 1, 2, 3, 4, 1, 2, 3, 4, 1, 2, 3, 4, 1, 2, 3, 4, 1, 2, 3, 4, 1, 2, 3, 4, 1, 2, 3, 4, 1, 2, 3, 4, 1, 2, 3, 4, 1, 2, 3, 4, 1, 2, 3, 4, 1, 2, 3, 4, 1, 2, 3, 4, 1, 2, 3, 4, 1, 2, 3, 4, 1, 2, 3, 4, 1, 2, 3, 4, 1, 2, 3, 4, 1, 2, 3, 4, 1, 2, 3, 4, 1, 2, 3, 4, 1, 2, 3, 4, 1, 2, 3, 4, 1, 2, 3, 4, 1, 2, 3, 4, 1, 2, 3, 4, 1, 2, 3, 4, 1, 2, 3, 4, 1, 2, 3, 4, 1, 2, 3, 4, 1, 2, 3, 4, 1, 2, 3, 4, 1, 2, 3, 4, 1, 2, 3, 4, 1, 2, 3, 4, 1, 2, 3, 4, 1, 2, 3, 4, 1, 2, 3, 4, 1, 2, 3, 4, 1, 2, 3, 4, 1, 2, 3, 4, 1, 2, 3, 4, 1, 2, 3, 4, 1, 2, 3, 4, 1, 2, 3, 4, 1, 2, 3, 4, 1, 2, 3, 4, 1, 2, 3, 4, 1, 2, 3, 4, 1], segments=[Segment(start=0.0, end=0.02, label='intro'), Segment(start=0.02, end=22.4, label='verse'), Segment(start=22.4, end=38.11, label='verse'), Segment(start=38.11, end=53.35, label='chorus'), Segment(start=53.35, end=68.59, label='chorus'), Segment(start=68.59, end=83.35, label='verse'), Segment(start=83.35, end=100.97, label='verse'), Segment(start=100.97, end=114.31, label='chorus'), Segment(start=114.31, end=131.45, label='chorus'), Segment(start=131.45, end=146.69, label='chorus'), Segment(start=146.69, end=161.92, label='chorus'), Segment(start=161.92, end=165.68, label='end')], activations=None, embeddings=None)\n"
     ]
    }
   ],
   "source": [
    "print(results)"
   ]
  }
 ],
 "metadata": {
  "kernelspec": {
   "display_name": "Python 3",
   "language": "python",
   "name": "python3"
  },
  "language_info": {
   "codemirror_mode": {
    "name": "ipython",
    "version": 3
   },
   "file_extension": ".py",
   "mimetype": "text/x-python",
   "name": "python",
   "nbconvert_exporter": "python",
   "pygments_lexer": "ipython3",
   "version": "3.10.12"
  }
 },
 "nbformat": 4,
 "nbformat_minor": 2
}
